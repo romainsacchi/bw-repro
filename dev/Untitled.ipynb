{
 "cells": [
  {
   "cell_type": "code",
   "execution_count": 1,
   "id": "ecfe172f-d7aa-4cba-881b-17f774fc090f",
   "metadata": {},
   "outputs": [],
   "source": [
    "import brightway2 as bw"
   ]
  },
  {
   "cell_type": "code",
   "execution_count": 2,
   "id": "bf21f7bc-8982-464d-a7e9-bb5e59adf5ed",
   "metadata": {},
   "outputs": [],
   "source": [
    "bw.projects.set_current(\"ei_38\")"
   ]
  },
  {
   "cell_type": "code",
   "execution_count": 3,
   "id": "b6a16b00-0d49-4595-9371-353ca510f4d2",
   "metadata": {},
   "outputs": [
    {
     "data": {
      "text/plain": [
       "Databases dictionary with 8 object(s):\n",
       "\tammonia_test\n",
       "\tbiosphere3\n",
       "\tcobalt\n",
       "\tcobalt_test\n",
       "\tcobalt_w_all\n",
       "\tcobalt_w_electricity\n",
       "\tcobalt_wo_electricity\n",
       "\tecoinvent cutoff 3.8"
      ]
     },
     "execution_count": 3,
     "metadata": {},
     "output_type": "execute_result"
    }
   ],
   "source": [
    "bw.databases"
   ]
  },
  {
   "cell_type": "code",
   "execution_count": 4,
   "id": "ae75d02b-69fa-461e-95c7-d31e4392741e",
   "metadata": {},
   "outputs": [
    {
     "data": {
      "text/plain": [
       "('ReCiPe Endpoint (H,A)', 'resources', 'metal depletion')"
      ]
     },
     "execution_count": 4,
     "metadata": {},
     "output_type": "execute_result"
    }
   ],
   "source": [
    "meth = bw.methods.random()\n",
    "meth"
   ]
  },
  {
   "cell_type": "code",
   "execution_count": 5,
   "id": "6c9f4228-0892-4dd4-9bc0-f3790cf422d4",
   "metadata": {},
   "outputs": [
    {
     "ename": "SyntaxError",
     "evalue": "invalid syntax (3042662685.py, line 1)",
     "output_type": "error",
     "traceback": [
      "\u001b[0;36m  Input \u001b[0;32mIn [5]\u001b[0;36m\u001b[0m\n\u001b[0;31m    lca = bw.LCA(bw.random(): 1, meth)\u001b[0m\n\u001b[0m                            ^\u001b[0m\n\u001b[0;31mSyntaxError\u001b[0m\u001b[0;31m:\u001b[0m invalid syntax\n"
     ]
    }
   ],
   "source": [
    "lca = bw.LCA(|bw.random(): 1, meth)"
   ]
  },
  {
   "cell_type": "code",
   "execution_count": null,
   "id": "234462e9-66fb-4bf4-9873-161d23bf16ca",
   "metadata": {},
   "outputs": [],
   "source": []
  }
 ],
 "metadata": {
  "kernelspec": {
   "display_name": "Python 3 (ipykernel)",
   "language": "python",
   "name": "python3"
  },
  "language_info": {
   "codemirror_mode": {
    "name": "ipython",
    "version": 3
   },
   "file_extension": ".py",
   "mimetype": "text/x-python",
   "name": "python",
   "nbconvert_exporter": "python",
   "pygments_lexer": "ipython3",
   "version": "3.9.12"
  }
 },
 "nbformat": 4,
 "nbformat_minor": 5
}
